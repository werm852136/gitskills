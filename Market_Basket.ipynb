{
 "cells": [
  {
   "cell_type": "code",
   "execution_count": 1,
   "metadata": {},
   "outputs": [],
   "source": [
    "import pandas as pd\n",
    "import numpy as np"
   ]
  },
  {
   "cell_type": "code",
   "execution_count": 2,
   "metadata": {},
   "outputs": [
    {
     "name": "stdout",
     "output_type": "stream",
     "text": [
      "              0          1           2                 3             4   \\\n",
      "0         shrimp    almonds     avocado    vegetables mix  green grapes   \n",
      "1        burgers  meatballs        eggs               NaN           NaN   \n",
      "2        chutney        NaN         NaN               NaN           NaN   \n",
      "3         turkey    avocado         NaN               NaN           NaN   \n",
      "4  mineral water       milk  energy bar  whole wheat rice     green tea   \n",
      "\n",
      "                 5     6               7             8             9   \\\n",
      "0  whole weat flour  yams  cottage cheese  energy drink  tomato juice   \n",
      "1               NaN   NaN             NaN           NaN           NaN   \n",
      "2               NaN   NaN             NaN           NaN           NaN   \n",
      "3               NaN   NaN             NaN           NaN           NaN   \n",
      "4               NaN   NaN             NaN           NaN           NaN   \n",
      "\n",
      "               10         11     12     13             14      15  \\\n",
      "0  low fat yogurt  green tea  honey  salad  mineral water  salmon   \n",
      "1             NaN        NaN    NaN    NaN            NaN     NaN   \n",
      "2             NaN        NaN    NaN    NaN            NaN     NaN   \n",
      "3             NaN        NaN    NaN    NaN            NaN     NaN   \n",
      "4             NaN        NaN    NaN    NaN            NaN     NaN   \n",
      "\n",
      "                  16               17       18         19  \n",
      "0  antioxydant juice  frozen smoothie  spinach  olive oil  \n",
      "1                NaN              NaN      NaN        NaN  \n",
      "2                NaN              NaN      NaN        NaN  \n",
      "3                NaN              NaN      NaN        NaN  \n",
      "4                NaN              NaN      NaN        NaN  \n",
      "(7501, 20)\n"
     ]
    }
   ],
   "source": [
    "#数据加载并探索数据\n",
    "dataset = pd.read_csv('./Market_Basket_Optimisation.csv',header=None)\n",
    "print(dataset.head())\n",
    "print(dataset.shape)"
   ]
  },
  {
   "cell_type": "code",
   "execution_count": 10,
   "metadata": {},
   "outputs": [
    {
     "name": "stdout",
     "output_type": "stream",
     "text": [
      "['shrimp', 'almonds', 'avocado', 'vegetables mix', 'green grapes', 'whole weat flour', 'yams', 'cottage cheese', 'energy drink', 'tomato juice', 'low fat yogurt', 'green tea', 'honey', 'salad', 'mineral water', 'salmon', 'antioxydant juice', 'frozen smoothie', 'spinach', 'olive oil']\n"
     ]
    }
   ],
   "source": [
    "#把数据存放到transaction里面\n",
    "transactions=[]\n",
    "for i in range(0,dataset.shape[0]):\n",
    "    temp=[]\n",
    "    for j in range(0,dataset.shape[1]):\n",
    "        if str(dataset.values[i,j]) != 'nan':\n",
    "            temp.append(str(dataset.values[i,j]))\n",
    "    transactions.append(temp)\n",
    "print(transactions[0])"
   ]
  },
  {
   "cell_type": "code",
   "execution_count": 18,
   "metadata": {},
   "outputs": [
    {
     "name": "stdout",
     "output_type": "stream",
     "text": [
      "频繁项集： {1: {('mineral water',): 1788, ('shrimp',): 536, ('green tea',): 991, ('low fat yogurt',): 574, ('olive oil',): 494, ('frozen smoothie',): 475, ('burgers',): 654, ('eggs',): 1348, ('turkey',): 469, ('milk',): 972, ('whole wheat rice',): 439, ('french fries',): 1282, ('soup',): 379, ('frozen vegetables',): 715, ('spaghetti',): 1306, ('cookies',): 603, ('cooking oil',): 383, ('chicken',): 450, ('chocolate',): 1229, ('tomatoes',): 513, ('pancakes',): 713, ('grated cheese',): 393, ('escalope',): 595, ('ground beef',): 737, ('cake',): 608}, 2: {('eggs', 'mineral water'): 382, ('mineral water', 'spaghetti'): 448, ('chocolate', 'mineral water'): 395}}\n",
      "关联规则： [{mineral water} -> {eggs}, {eggs} -> {mineral water}, {spaghetti} -> {mineral water}, {mineral water} -> {spaghetti}, {mineral water} -> {chocolate}, {chocolate} -> {mineral water}]\n"
     ]
    }
   ],
   "source": [
    "#用efficient_apriori挖掘频繁项集和频繁规则，支持度设为0.05，置信度设为0.2\n",
    "from efficient_apriori import apriori\n",
    "itemsets,rules = apriori(transactions, min_support=0.05,min_confidence=0.2)\n",
    "print('频繁项集：', itemsets)\n",
    "print('关联规则：', rules)"
   ]
  },
  {
   "cell_type": "code",
   "execution_count": null,
   "metadata": {},
   "outputs": [],
   "source": []
  },
  {
   "cell_type": "code",
   "execution_count": null,
   "metadata": {},
   "outputs": [],
   "source": []
  },
  {
   "cell_type": "code",
   "execution_count": 23,
   "metadata": {},
   "outputs": [],
   "source": [
    "from mlxtend.frequent_patterns import apriori\n",
    "from mlxtend.frequent_patterns import association_rules"
   ]
  },
  {
   "cell_type": "code",
   "execution_count": 24,
   "metadata": {},
   "outputs": [
    {
     "name": "stdout",
     "output_type": "stream",
     "text": [
      "       asparagus  almonds  antioxydant juice  asparagus  avocado  babies food  \\\n",
      "0              0        1                  1          0        1            0   \n",
      "1              0        0                  0          0        0            0   \n",
      "2              0        0                  0          0        0            0   \n",
      "3              0        0                  0          0        1            0   \n",
      "4              0        0                  0          0        0            0   \n",
      "...          ...      ...                ...        ...      ...          ...   \n",
      "7496           0        0                  0          0        0            0   \n",
      "7497           0        0                  0          0        0            0   \n",
      "7498           0        0                  0          0        0            0   \n",
      "7499           0        0                  0          0        0            0   \n",
      "7500           0        0                  0          0        0            0   \n",
      "\n",
      "      bacon  barbecue sauce  black tea  blueberries  ...  turkey  \\\n",
      "0         0               0          0            0  ...       0   \n",
      "1         0               0          0            0  ...       0   \n",
      "2         0               0          0            0  ...       0   \n",
      "3         0               0          0            0  ...       1   \n",
      "4         0               0          0            0  ...       0   \n",
      "...     ...             ...        ...          ...  ...     ...   \n",
      "7496      0               0          0            0  ...       0   \n",
      "7497      0               0          0            0  ...       0   \n",
      "7498      0               0          0            0  ...       0   \n",
      "7499      0               0          0            0  ...       0   \n",
      "7500      0               0          0            0  ...       0   \n",
      "\n",
      "      vegetables mix  water spray  white wine  whole weat flour  \\\n",
      "0                  1            0           0                 1   \n",
      "1                  0            0           0                 0   \n",
      "2                  0            0           0                 0   \n",
      "3                  0            0           0                 0   \n",
      "4                  0            0           0                 0   \n",
      "...              ...          ...         ...               ...   \n",
      "7496               0            0           0                 0   \n",
      "7497               0            0           0                 0   \n",
      "7498               0            0           0                 0   \n",
      "7499               0            0           0                 0   \n",
      "7500               0            0           0                 0   \n",
      "\n",
      "      whole wheat pasta  whole wheat rice  yams  yogurt cake  zucchini  \n",
      "0                     0                 0     1            0         0  \n",
      "1                     0                 0     0            0         0  \n",
      "2                     0                 0     0            0         0  \n",
      "3                     0                 0     0            0         0  \n",
      "4                     0                 1     0            0         0  \n",
      "...                 ...               ...   ...          ...       ...  \n",
      "7496                  0                 0     0            0         0  \n",
      "7497                  0                 0     0            0         0  \n",
      "7498                  0                 0     0            0         0  \n",
      "7499                  0                 0     0            0         0  \n",
      "7500                  0                 0     0            1         0  \n",
      "\n",
      "[7501 rows x 120 columns]\n"
     ]
    }
   ],
   "source": [
    "#读取数据并进行进行one-hot编码（\n",
    "data = pd.read_csv('./Market_Basket_Optimisation.csv',sep=\"\\t\",header=None)\n",
    "data=data[0].str.get_dummies(sep=\",\")\n",
    "print(data)"
   ]
  },
  {
   "cell_type": "code",
   "execution_count": 27,
   "metadata": {},
   "outputs": [
    {
     "name": "stdout",
     "output_type": "stream",
     "text": [
      "-------------------- 频繁项集 --------------------\n",
      "     support                    itemsets\n",
      "16  0.238368             (mineral water)\n",
      "6   0.179709                      (eggs)\n",
      "21  0.174110                 (spaghetti)\n",
      "8   0.170911              (french fries)\n",
      "3   0.163845                 (chocolate)\n",
      "12  0.132116                 (green tea)\n",
      "15  0.129583                      (milk)\n",
      "13  0.098254               (ground beef)\n",
      "10  0.095321         (frozen vegetables)\n",
      "18  0.095054                  (pancakes)\n",
      "0   0.087188                   (burgers)\n",
      "1   0.081056                      (cake)\n",
      "4   0.080389                   (cookies)\n",
      "7   0.079323                  (escalope)\n",
      "14  0.076523            (low fat yogurt)\n",
      "19  0.071457                    (shrimp)\n",
      "22  0.068391                  (tomatoes)\n",
      "17  0.065858                 (olive oil)\n",
      "9   0.063325           (frozen smoothie)\n",
      "23  0.062525                    (turkey)\n",
      "2   0.059992                   (chicken)\n",
      "27  0.059725  (mineral water, spaghetti)\n",
      "24  0.058526          (whole wheat rice)\n",
      "25  0.052660  (mineral water, chocolate)\n",
      "11  0.052393             (grated cheese)\n",
      "5   0.051060               (cooking oil)\n",
      "26  0.050927       (mineral water, eggs)\n",
      "20  0.050527                      (soup)\n"
     ]
    }
   ],
   "source": [
    "#挖掘频繁项集，最小支持度为0.05，并从大到小输出\n",
    "itemsets = apriori(data,use_colnames=True, min_support=0.05)\n",
    "itemsets = itemsets.sort_values(by=\"support\" , ascending=False) \n",
    "print('-'*20, '频繁项集', '-'*20)\n",
    "print(itemsets)"
   ]
  },
  {
   "cell_type": "code",
   "execution_count": 29,
   "metadata": {},
   "outputs": [
    {
     "name": "stdout",
     "output_type": "stream",
     "text": [
      "-------------------- 关联规则 --------------------\n",
      "       antecedents      consequents  antecedent support  consequent support  \\\n",
      "0  (mineral water)      (spaghetti)            0.238368            0.174110   \n",
      "1      (spaghetti)  (mineral water)            0.174110            0.238368   \n",
      "3      (chocolate)  (mineral water)            0.163845            0.238368   \n",
      "2  (mineral water)      (chocolate)            0.238368            0.163845   \n",
      "4  (mineral water)           (eggs)            0.238368            0.179709   \n",
      "5           (eggs)  (mineral water)            0.179709            0.238368   \n",
      "\n",
      "    support  confidence      lift  leverage  conviction  \n",
      "0  0.059725    0.250559  1.439085  0.018223    1.102008  \n",
      "1  0.059725    0.343032  1.439085  0.018223    1.159314  \n",
      "3  0.052660    0.321400  1.348332  0.013604    1.122357  \n",
      "2  0.052660    0.220917  1.348332  0.013604    1.073256  \n",
      "4  0.050927    0.213647  1.188845  0.008090    1.043158  \n",
      "5  0.050927    0.283383  1.188845  0.008090    1.062815  \n"
     ]
    }
   ],
   "source": [
    "#根据频繁项集计算关联规则，设置最小提升度为1\n",
    "rules =  association_rules(itemsets, metric='lift', min_threshold=1)\n",
    "rules = rules.sort_values(by=\"lift\" , ascending=False) \n",
    "print('-'*20, '关联规则', '-'*20)\n",
    "print(rules)"
   ]
  },
  {
   "cell_type": "code",
   "execution_count": null,
   "metadata": {},
   "outputs": [],
   "source": []
  },
  {
   "cell_type": "code",
   "execution_count": null,
   "metadata": {},
   "outputs": [],
   "source": []
  },
  {
   "cell_type": "code",
   "execution_count": null,
   "metadata": {},
   "outputs": [],
   "source": []
  },
  {
   "cell_type": "markdown",
   "metadata": {},
   "source": [
    "Thinking1：\n",
    "支持度表示同时购买X的订单数占总订单数，计算为：购买X的订单数/总订单数\n",
    "置信度表示同时购买X和Y的订单数占购买X的订单的比例，计算为：X→Y的置信度=同时购买X，Y的订单数/购买X的订单数\n",
    "提升度反映了关联规则中的X与Y的相关性：提升度 >1 且越高表明正相关性越高;提升度 <1 且越低表明负相关性越高;提升度 =1 表明没有相关性，计算为：(同时购买X，Y的订单数×总订单数)/(购买X的订单数×购买Y的订单数)"
   ]
  },
  {
   "cell_type": "markdown",
   "metadata": {},
   "source": [
    "Thinking2：\n",
    "协同过滤是通过收集群体用户的偏好信息，自动化预测（过滤）个体用户可能感兴趣的内容，依赖用户偏好信息\n",
    "关联规则是指如果一个消费者购买了产品A，那么他有多大机会购买产品B\n",
    "协同过滤面向用户对物品的评分，其过程是先协同，找到相似的人，在过滤，使用户注重个性化的场景；而关联规则直接从数据中挖掘潜在的关联，与个人的偏好无关，只偏重物品之间的关系"
   ]
  },
  {
   "cell_type": "markdown",
   "metadata": {},
   "source": [
    "Thinking3：\n",
    "因为每种推荐算法使用的规则不一样，需要按不同的要求来使用不同的算法"
   ]
  },
  {
   "cell_type": "markdown",
   "metadata": {},
   "source": [
    "Thinking4：\n",
    "最小支持度和置信度都需要在实际操作中不断的去尝试，一开始可以先设置的小些，然后对输出结果进行排序后，在通过观察数据得到合适的设定值"
   ]
  },
  {
   "cell_type": "markdown",
   "metadata": {},
   "source": [
    "Thinking5：\n",
    "一元线性回归，多元线性回归，多项式回归,逻辑回归\n",
    "R-squared也叫确定系数，表示模型对现实数据拟合的长度\n",
    "MSE也就是均方误差，是在回归问题中比较常用的损失函数"
   ]
  },
  {
   "cell_type": "code",
   "execution_count": null,
   "metadata": {},
   "outputs": [],
   "source": []
  }
 ],
 "metadata": {
  "kernelspec": {
   "display_name": "Python 3",
   "language": "python",
   "name": "python3"
  },
  "language_info": {
   "codemirror_mode": {
    "name": "ipython",
    "version": 3
   },
   "file_extension": ".py",
   "mimetype": "text/x-python",
   "name": "python",
   "nbconvert_exporter": "python",
   "pygments_lexer": "ipython3",
   "version": "3.8.3"
  }
 },
 "nbformat": 4,
 "nbformat_minor": 4
}
