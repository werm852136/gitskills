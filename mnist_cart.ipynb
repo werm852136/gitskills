{
 "cells": [
  {
   "cell_type": "code",
   "execution_count": 16,
   "metadata": {},
   "outputs": [
    {
     "name": "stdout",
     "output_type": "stream",
     "text": [
      "(1797, 64)\n",
      "[[ 0.  0.  5. 13.  9.  1.  0.  0.]\n",
      " [ 0.  0. 13. 15. 10. 15.  5.  0.]\n",
      " [ 0.  3. 15.  2.  0. 11.  8.  0.]\n",
      " [ 0.  4. 12.  0.  0.  8.  8.  0.]\n",
      " [ 0.  5.  8.  0.  0.  9.  8.  0.]\n",
      " [ 0.  4. 11.  0.  1. 12.  7.  0.]\n",
      " [ 0.  2. 14.  5. 10. 12.  0.  0.]\n",
      " [ 0.  0.  6. 13. 10.  0.  0.  0.]]\n",
      "0\n"
     ]
    },
    {
     "data": {
      "image/png": "[encoded data removed]",
      "text/plain": [
       "<Figure size 432x288 with 1 Axes>"
      ]
     },
     "metadata": {
      "needs_background": "light"
     },
     "output_type": "display_data"
    }
   ],
   "source": [
    "# -*- coding: utf-8 -*-\n",
    "# 使用LR进行MNIST手写数字分类\n",
    "from sklearn.model_selection import train_test_split\n",
    "from sklearn import preprocessing\n",
    "from sklearn import metrics\n",
    "from sklearn.metrics import accuracy_score\n",
    "from sklearn.datasets import load_digits\n",
    "from sklearn.tree import DecisionTreeClassifier\n",
    "import matplotlib.pyplot as plt\n",
    "\n",
    "# 加载数据\n",
    "digits = load_digits()\n",
    "data = digits.data\n",
    "# 数据探索\n",
    "print(data.shape)\n",
    "# 查看第一幅图像\n",
    "print(digits.images[0])\n",
    "# 第一幅图像代表的数字含义\n",
    "print(digits.target[0])\n",
    "# 将第一幅图像显示出来\n",
    "plt.gray()\n",
    "plt.title('Handwritten Digits')\n",
    "plt.imshow(digits.images[0])\n",
    "plt.show()"
   ]
  },
  {
   "cell_type": "code",
   "execution_count": 17,
   "metadata": {},
   "outputs": [],
   "source": [
    "# 分割数据，将25%的数据作为测试集，其余作为训练集\n",
    "train_x, test_x, train_y, test_y = train_test_split(data, digits.target, test_size=0.25, random_state=33)\n"
   ]
  },
  {
   "cell_type": "code",
   "execution_count": 22,
   "metadata": {},
   "outputs": [],
   "source": [
    "# 采用Z-Score规范化\n",
    "train_ss_x = preprocessing.StandardScaler().fit_transform(train_x)\n",
    "test_ss_x = preprocessing.StandardScaler().fit_transform(test_x)"
   ]
  },
  {
   "cell_type": "code",
   "execution_count": 23,
   "metadata": {},
   "outputs": [
    {
     "name": "stdout",
     "output_type": "stream",
     "text": [
      "DecisionTreeClassifier()\n",
      "              precision    recall  f1-score   support\n",
      "\n",
      "           0       0.89      0.97      0.93        35\n",
      "           1       0.74      0.78      0.76        54\n",
      "           2       0.92      0.77      0.84        44\n",
      "           3       0.88      0.80      0.84        46\n",
      "           4       0.93      0.77      0.84        35\n",
      "           5       0.84      0.90      0.87        48\n",
      "           6       0.93      0.98      0.95        51\n",
      "           7       0.85      0.94      0.89        35\n",
      "           8       0.75      0.78      0.76        58\n",
      "           9       0.81      0.80      0.80        44\n",
      "\n",
      "    accuracy                           0.84       450\n",
      "   macro avg       0.85      0.85      0.85       450\n",
      "weighted avg       0.85      0.84      0.84       450\n",
      "\n",
      "[[34  0  0  0  0  1  0  0  0  0]\n",
      " [ 1 42  2  0  0  1  2  0  5  1]\n",
      " [ 1  5 34  0  0  0  0  1  3  0]\n",
      " [ 0  3  0 37  0  1  0  0  2  3]\n",
      " [ 2  1  0  1 27  1  1  2  0  0]\n",
      " [ 0  0  1  0  0 43  1  0  1  2]\n",
      " [ 0  0  0  0  0  0 50  0  1  0]\n",
      " [ 0  0  0  0  1  0  0 33  0  1]\n",
      " [ 0  6  0  1  1  2  0  2 45  1]\n",
      " [ 0  0  0  3  0  2  0  1  3 35]]\n",
      "CART 准确率：0.8444\n"
     ]
    }
   ],
   "source": [
    "CART = DecisionTreeClassifier()\n",
    "CART.fit(train_x, train_y)\n",
    "print(CART)\n",
    "predict_y = CART.predict(test_ss_x)\n",
    "print(metrics.classification_report(test_y, predict_y))\n",
    "print(metrics.confusion_matrix(test_y, predict_y))\n",
    "print(\"CART 准确率：%0.4lf\" % metrics.accuracy_score(test_y, predict_y))"
   ]
  },
  {
   "cell_type": "code",
   "execution_count": null,
   "metadata": {},
   "outputs": [],
   "source": []
  },
  {
   "cell_type": "markdown",
   "metadata": {},
   "source": [
    "thinking1：\n",
    "thinking2：\n",
    "thinking3："
   ]
  }
 ],
 "metadata": {
  "kernelspec": {
   "display_name": "Python 3",
   "language": "python",
   "name": "python3"
  },
  "language_info": {
   "codemirror_mode": {
    "name": "ipython",
    "version": 3
   },
   "file_extension": ".py",
   "mimetype": "text/x-python",
   "name": "python",
   "nbconvert_exporter": "python",
   "pygments_lexer": "ipython3",
   "version": "3.8.3"
  }
 },
 "nbformat": 4,
 "nbformat_minor": 4
}
